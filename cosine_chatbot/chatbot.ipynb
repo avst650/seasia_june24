{
 "cells": [
  {
   "cell_type": "code",
   "execution_count": 5,
   "id": "8d57ddc5",
   "metadata": {},
   "outputs": [],
   "source": [
    "# pip install --user -U nltk"
   ]
  },
  {
   "cell_type": "code",
   "execution_count": 4,
   "id": "3fb76297",
   "metadata": {},
   "outputs": [
    {
     "name": "stdout",
     "output_type": "stream",
     "text": [
      "0.0\n",
      "Intent: \n",
      "Response: sorry, try again!\n"
     ]
    },
    {
     "name": "stderr",
     "output_type": "stream",
     "text": [
      "[nltk_data] Downloading package stopwords to /home/anush/nltk_data...\n",
      "[nltk_data]   Package stopwords is already up-to-date!\n",
      "[nltk_data] Downloading package punkt to /home/anush/nltk_data...\n",
      "[nltk_data]   Package punkt is already up-to-date!\n"
     ]
    }
   ],
   "source": [
    "import pandas as pd\n",
    "from sklearn.feature_extraction.text import TfidfVectorizer\n",
    "from sklearn.metrics.pairwise import cosine_similarity\n",
    "import nltk\n",
    "from nltk.corpus import stopwords\n",
    "from nltk.stem import PorterStemmer\n",
    "\n",
    "def preprocess_text(text):\n",
    "    words = nltk.word_tokenize(text)\n",
    "    words = [word.lower() for word in words]\n",
    "    stop_words = set(stopwords.words('english'))\n",
    "    words = [word for word in words if word not in stop_words]\n",
    "    stemmer = PorterStemmer()\n",
    "    words = [stemmer.stem(word) for word in words]\n",
    "    processed_text = ' '.join(words)\n",
    "    return processed_text\n",
    "\n",
    "\n",
    "def get_intent(user_input):\n",
    "    preprocessed_input = preprocess_text(user_input)\n",
    "    user_vector = tfidf_vectorizer.transform([preprocessed_input])\n",
    "    similarities = cosine_similarity(user_vector, tfidf_matrix)\n",
    "    max_similarity = similarities.max()\n",
    "    print(max_similarity)\n",
    "    if max_similarity < 0.4:\n",
    "        intent = ''\n",
    "        response = 'sorry, try again!'\n",
    "    else:\n",
    "        intent_index = similarities.argmax()\n",
    "        intent = data['intent'][intent_index]\n",
    "        response = data['answer'][intent_index] \n",
    "        \n",
    "    return intent, response\n",
    "\n",
    "data = pd.read_csv('data.csv')\n",
    "nltk.download('stopwords')\n",
    "nltk.download('punkt')\n",
    "tfidf_vectorizer = TfidfVectorizer()\n",
    "tfidf_matrix = tfidf_vectorizer.fit_transform(data['question'])\n",
    "\n",
    "user_input = \"faucetladfjdalfj\"\n",
    "intent, response = get_intent(user_input)\n",
    "print(\"Intent:\", intent)\n",
    "print(\"Response:\", response)"
   ]
  },
  {
   "cell_type": "code",
   "execution_count": null,
   "id": "377c53ff",
   "metadata": {},
   "outputs": [],
   "source": []
  }
 ],
 "metadata": {
  "kernelspec": {
   "display_name": "Python 3 (ipykernel)",
   "language": "python",
   "name": "python3"
  },
  "language_info": {
   "codemirror_mode": {
    "name": "ipython",
    "version": 3
   },
   "file_extension": ".py",
   "mimetype": "text/x-python",
   "name": "python",
   "nbconvert_exporter": "python",
   "pygments_lexer": "ipython3",
   "version": "3.9.18"
  }
 },
 "nbformat": 4,
 "nbformat_minor": 5
}
