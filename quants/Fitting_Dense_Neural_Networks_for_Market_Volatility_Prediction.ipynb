{
 "cells": [
  {
   "cell_type": "markdown",
   "metadata": {
    "id": "702149d7"
   },
   "source": [
    "$\\rule{800pt}{20pt}$"
   ]
  },
  {
   "cell_type": "code",
   "execution_count": null,
   "metadata": {
    "collapsed": true
   },
   "outputs": [],
   "source": []
  },
  {
   "cell_type": "code",
   "execution_count": null,
   "metadata": {
    "collapsed": true
   },
   "outputs": [],
   "source": []
  },
  {
   "cell_type": "code",
   "execution_count": null,
   "metadata": {
    "collapsed": true
   },
   "outputs": [],
   "source": []
  },
  {
   "cell_type": "code",
   "execution_count": null,
   "metadata": {
    "collapsed": true
   },
   "outputs": [],
   "source": []
  },
  {
   "cell_type": "code",
   "execution_count": null,
   "metadata": {
    "collapsed": true
   },
   "outputs": [],
   "source": []
  },
  {
   "cell_type": "code",
   "execution_count": null,
   "metadata": {
    "collapsed": true
   },
   "outputs": [],
   "source": []
  },
  {
   "cell_type": "code",
   "execution_count": null,
   "metadata": {
    "collapsed": true
   },
   "outputs": [],
   "source": []
  },
  {
   "cell_type": "code",
   "execution_count": null,
   "metadata": {
    "collapsed": true
   },
   "outputs": [],
   "source": []
  },
  {
   "cell_type": "code",
   "execution_count": null,
   "metadata": {
    "collapsed": true
   },
   "outputs": [],
   "source": []
  },
  {
   "cell_type": "code",
   "execution_count": null,
   "metadata": {
    "collapsed": true
   },
   "outputs": [],
   "source": []
  },
  {
   "cell_type": "code",
   "execution_count": null,
   "metadata": {
    "collapsed": true
   },
   "outputs": [],
   "source": []
  },
  {
   "cell_type": "code",
   "execution_count": null,
   "metadata": {
    "collapsed": true
   },
   "outputs": [],
   "source": []
  },
  {
   "cell_type": "code",
   "execution_count": null,
   "metadata": {
    "collapsed": true
   },
   "outputs": [],
   "source": []
  },
  {
   "cell_type": "code",
   "execution_count": null,
   "metadata": {
    "collapsed": true
   },
   "outputs": [],
   "source": []
  },
  {
   "cell_type": "code",
   "execution_count": null,
   "metadata": {
    "collapsed": true
   },
   "outputs": [],
   "source": []
  },
  {
   "cell_type": "code",
   "execution_count": null,
   "metadata": {
    "collapsed": true
   },
   "outputs": [],
   "source": []
  },
  {
   "cell_type": "code",
   "execution_count": null,
   "metadata": {
    "collapsed": true
   },
   "outputs": [],
   "source": []
  },
  {
   "cell_type": "code",
   "execution_count": null,
   "metadata": {
    "collapsed": true
   },
   "outputs": [],
   "source": []
  },
  {
   "cell_type": "code",
   "execution_count": null,
   "metadata": {
    "collapsed": true
   },
   "outputs": [],
   "source": []
  },
  {
   "cell_type": "code",
   "execution_count": null,
   "metadata": {
    "collapsed": true
   },
   "outputs": [],
   "source": []
  },
  {
   "cell_type": "code",
   "execution_count": null,
   "metadata": {
    "collapsed": true
   },
   "outputs": [],
   "source": []
  },
  {
   "cell_type": "code",
   "execution_count": null,
   "metadata": {
    "collapsed": true
   },
   "outputs": [],
   "source": []
  },
  {
   "cell_type": "code",
   "execution_count": null,
   "metadata": {
    "collapsed": true
   },
   "outputs": [],
   "source": []
  },
  {
   "cell_type": "code",
   "execution_count": null,
   "metadata": {
    "collapsed": true
   },
   "outputs": [],
   "source": []
  },
  {
   "cell_type": "code",
   "execution_count": null,
   "metadata": {
    "collapsed": true
   },
   "outputs": [],
   "source": []
  },
  {
   "cell_type": "code",
   "execution_count": null,
   "metadata": {
    "collapsed": true
   },
   "outputs": [],
   "source": []
  },
  {
   "cell_type": "code",
   "execution_count": null,
   "metadata": {
    "collapsed": true
   },
   "outputs": [],
   "source": []
  },
  {
   "cell_type": "code",
   "execution_count": null,
   "metadata": {
    "collapsed": true
   },
   "outputs": [],
   "source": []
  },
  {
   "cell_type": "code",
   "execution_count": null,
   "metadata": {
    "collapsed": true
   },
   "outputs": [],
   "source": []
  },
  {
   "cell_type": "code",
   "execution_count": null,
   "metadata": {
    "collapsed": true
   },
   "outputs": [],
   "source": []
  },
  {
   "cell_type": "code",
   "execution_count": null,
   "metadata": {
    "collapsed": true
   },
   "outputs": [],
   "source": []
  },
  {
   "cell_type": "code",
   "execution_count": null,
   "metadata": {
    "collapsed": true
   },
   "outputs": [],
   "source": []
  },
  {
   "cell_type": "code",
   "execution_count": null,
   "metadata": {
    "collapsed": true
   },
   "outputs": [],
   "source": []
  },
  {
   "cell_type": "code",
   "execution_count": null,
   "metadata": {
    "collapsed": true
   },
   "outputs": [],
   "source": []
  },
  {
   "cell_type": "code",
   "execution_count": null,
   "metadata": {
    "collapsed": true
   },
   "outputs": [],
   "source": []
  },
  {
   "cell_type": "code",
   "execution_count": null,
   "metadata": {
    "collapsed": true
   },
   "outputs": [],
   "source": []
  },
  {
   "cell_type": "code",
   "execution_count": null,
   "metadata": {
    "collapsed": true
   },
   "outputs": [],
   "source": []
  },
  {
   "cell_type": "code",
   "execution_count": null,
   "metadata": {
    "collapsed": true
   },
   "outputs": [],
   "source": []
  },
  {
   "cell_type": "code",
   "execution_count": null,
   "metadata": {
    "collapsed": true
   },
   "outputs": [],
   "source": []
  },
  {
   "cell_type": "code",
   "execution_count": null,
   "metadata": {
    "id": "74b5cfbc"
   },
   "outputs": [],
   "source": [
    "# Instructions\n",
    "<br>\n",
    "<font size=\"+1\">\n",
    "    <ul>\n",
    "        <li><b>Recommended Steps</b></li>\n",
    "        <br>\n",
    "        <ol>\n",
    "            <li>Read the prompt and summarize the task in your own words, using as few words as possible for ease of comprehension.</li>\n",
    "            <br>\n",
    "            <li>Pretend to be the computer program that you are trying to create. Examine the smaple inputs and manually produce the appropriate results. Afterward, verify the correctness of your logic by comparing with the given sample outputs.</li>\n",
    "            <br>\n",
    "            <li>On a scrap piece of paper, write step-by-step instructions so that someone else can pretend to be the computer program and produce the appropriate results for any possible inputs. These instructions should target a human audience who does not know the problem description and only has your instructions as a guide. These instructions should serve as the roadmap for your code.</li>\n",
    "            <br>\n",
    "            <li>On another scrap piece of paper, write fragments of Python code to implement each step in your roadmap, focusing especially on the trickiest parts of the logic.</li>\n",
    "            <br>\n",
    "            <li>With your roadmap and code fragments from the previous steps, type Python code into a new Jupyter notebook cel to solve the given problem. You should type incrementally and run the code whenever you add a small chunk. This allows you to correct errors as they occur. It may also be helpful to print intermediate results to verify that the code is carrying out the logic as desired.</li>\n",
    "            <br>\n",
    "            <li>Run your code with some sample inputs and verify that the outputs are exactly the same as the sample outputs.</li>\n",
    "            <br>\n",
    "            <li>Once all of your problems are finished, it is useful to click <i>Kernel</i> $\\rightarrow$ <i>Restart & Run All</i> to verify that your outputs for all of your problems continue to be correct. This helps to ensure that someone else will be able to replicate your results when running your notebook.</li>\n",
    "            <br>\n",
    "            <font color=\"red\"><li style=\"color:red\">Submit the <i>.ipynb</i> file on TurnItIn on Blackboard by the deadline. Be sure to refresh the page and double check your submission actually went through. <b>Note that you only need to submit your solutions, not all of the other recommended steps.</b> The recommended steps are meant to serve as a guide for your thinking process.</li></font>\n",
    "            <br>\n",
    "            <ul style=\"color:red\">\n",
    "            <font color=\"red\"><li>Do your best to make sure that I will be able to run it.</li>\n",
    "        <br>\n",
    "        <li>For example, read in the CSV files from the current directory. I.e., do not write the full path of the file in your code. That will allow me to run your notebook in any directory on my own PC.</li>\n",
    "        <br>\n",
    "        <li>Please use Text/Markdown cells to help me understand what you are doing. (I know it may be obvious, but I want to see that you know how to use Text/Markdown.)</li>\n",
    "        <br>\n",
    "        <li><b>Some of the questions may be vague, you can either ask me for clarification, or clearly explain your interpretation to the question and your solution to your interpretation</b>. Remember, an important part of being a data scientist is communication and soft skills, so take this as an opportunity to exercise those skills.</li></font>\n",
    "        <br>\n",
    "            </ul>\n",
    "        </ol>\n",
    "        <br>\n",
    "        $\\rule{800pt}{10pt}$\n",
    "        <br>\n",
    "        <li><b>Grading</b></li>\n",
    "        <br>\n",
    "        <li>There are four possible scores you can get from submitting this assignment on time (submitting a blank file or one without any apparent effort does not count). Note that the rubric is designed to incentivize you to go for $100%$ mastery of the material, as the little details matter in programming.</li>\n",
    "        <br>\n",
    "        <ul>\n",
    "            <li>Grade of $5$ out of $5$ - perfect submission with no significant errors</li>\n",
    "            <br>\n",
    "            <li>Grade of $4$ out of $5$ - near perfect submission with one or more significant errors</li>\n",
    "            <br>\n",
    "            <li>Grade of $2$ out of $5$ - apparent effort but far from perfect</li>\n",
    "            <br>\n",
    "            <li>Grade of $0$ out of $5$ - no submission or no apparent effort</li>\n",
    "            <br>\n",
    "        </ul>\n",
    "    </ul>\n",
    "</font>\n",
    "\n",
    "$\\square$"
   ]
  },
  {
   "cell_type": "markdown",
   "metadata": {
    "id": "0fb4a4c0"
   },
   "source": [
    "$\\rule{800pt}{20pt}$"
   ]
  },
  {
   "cell_type": "markdown",
   "metadata": {
    "id": "4a57d36f"
   },
   "source": [
    "# Before You Begin\n",
    "<br>\n",
    "<font size=\"+1\">\n",
    "    <ul>\n",
    "        <li>Please read the in-class notebooks realted to complexity in return prediction and building dense neural networks.</li>\n",
    "        <br>\n",
    "        <font color=\"red\"><li><b>NOTE THAT THIS HOMEWORK ASSIGNMENT IS MORE CHALLENGING AND MORE VAUGE COMPARED TO OTHERS.</b></li></font>\n",
    "        <br>\n",
    "        <ul>\n",
    "          <font color=\"red\"><li><b>Simply try your best on the assignment, it is intended for you to learn in a somewhat unstructured setting where you can experiment with the concepts we have developed in class.</li></font>\n",
    "          <br>\n",
    "        </ul>\n",
    "    </ul>\n",
    "</font>"
   ]
  },
  {
   "cell_type": "markdown",
   "metadata": {
    "id": "53e2370d"
   },
   "source": [
    "$\\rule{800pt}{20pt}$"
   ]
  },
  {
   "cell_type": "markdown",
   "metadata": {
    "id": "LA1Xzh9QPs_O"
   },
   "source": [
    "# Imports"
   ]
  },
  {
   "cell_type": "code",
   "execution_count": 1,
   "metadata": {
    "colab": {
     "base_uri": "https://localhost:8080/"
    },
    "id": "528b2e2d",
    "outputId": "98acdff5-f796-465b-c554-5033c2f74734"
   },
   "outputs": [
    {
     "name": "stdout",
     "output_type": "stream",
     "text": [
      "Mounted at /content/drive\n"
     ]
    }
   ],
   "source": [
    "import os\n",
    "import os.path\n",
    "import time\n",
    "from datetime import datetime\n",
    "\n",
    "import numpy as np\n",
    "import pandas as pd\n",
    "import seaborn as sns\n",
    "import matplotlib.pyplot as plt\n",
    "\n",
    "import tensorflow as tf\n",
    "from sklearn.preprocessing import StandardScaler\n",
    "import cvxpy as cp\n",
    "\n",
    "tf.keras.utils.set_random_seed(42)\n",
    "\n",
    "from google.colab import drive\n",
    "drive.mount('/content/drive')"
   ]
  },
  {
   "cell_type": "code",
   "execution_count": 2,
   "metadata": {
    "colab": {
     "base_uri": "https://localhost:8080/",
     "height": 35
    },
    "id": "4acc2627",
    "outputId": "33bc68c0-3b45-4a09-e40e-b596d69c5072"
   },
   "outputs": [
    {
     "data": {
      "application/vnd.google.colaboratory.intrinsic+json": {
       "type": "string"
      },
      "text/plain": [
       "'/content'"
      ]
     },
     "execution_count": 2,
     "metadata": {},
     "output_type": "execute_result"
    }
   ],
   "source": [
    "os.getcwd()"
   ]
  },
  {
   "cell_type": "code",
   "execution_count": null,
   "metadata": {
    "collapsed": true
   },
   "outputs": [],
   "source": []
  },
  {
   "cell_type": "code",
   "execution_count": null,
   "metadata": {
    "collapsed": true
   },
   "outputs": [],
   "source": []
  },
  {
   "cell_type": "code",
   "execution_count": null,
   "metadata": {
    "collapsed": true
   },
   "outputs": [],
   "source": []
  },
  {
   "cell_type": "code",
   "execution_count": null,
   "metadata": {
    "collapsed": true
   },
   "outputs": [],
   "source": []
  },
  {
   "cell_type": "code",
   "execution_count": null,
   "metadata": {
    "collapsed": true
   },
   "outputs": [],
   "source": []
  },
  {
   "cell_type": "code",
   "execution_count": null,
   "metadata": {
    "collapsed": true
   },
   "outputs": [],
   "source": []
  },
  {
   "cell_type": "code",
   "execution_count": null,
   "metadata": {
    "collapsed": true
   },
   "outputs": [],
   "source": []
  },
  {
   "cell_type": "code",
   "execution_count": null,
   "metadata": {
    "collapsed": true
   },
   "outputs": [],
   "source": []
  },
  {
   "cell_type": "code",
   "execution_count": null,
   "metadata": {
    "collapsed": true
   },
   "outputs": [],
   "source": []
  },
  {
   "cell_type": "code",
   "execution_count": null,
   "metadata": {
    "collapsed": true
   },
   "outputs": [],
   "source": []
  },
  {
   "cell_type": "code",
   "execution_count": null,
   "metadata": {
    "collapsed": true
   },
   "outputs": [],
   "source": []
  },
  {
   "cell_type": "code",
   "execution_count": null,
   "metadata": {
    "collapsed": true
   },
   "outputs": [],
   "source": []
  },
  {
   "cell_type": "code",
   "execution_count": null,
   "metadata": {
    "collapsed": true
   },
   "outputs": [],
   "source": []
  },
  {
   "cell_type": "code",
   "execution_count": null,
   "metadata": {
    "collapsed": true
   },
   "outputs": [],
   "source": []
  },
  {
   "cell_type": "code",
   "execution_count": null,
   "metadata": {
    "collapsed": true
   },
   "outputs": [],
   "source": []
  },
  {
   "cell_type": "code",
   "execution_count": null,
   "metadata": {
    "collapsed": true
   },
   "outputs": [],
   "source": []
  },
  {
   "cell_type": "code",
   "execution_count": null,
   "metadata": {
    "collapsed": true
   },
   "outputs": [],
   "source": []
  },
  {
   "cell_type": "code",
   "execution_count": null,
   "metadata": {
    "collapsed": true
   },
   "outputs": [],
   "source": []
  },
  {
   "cell_type": "code",
   "execution_count": null,
   "metadata": {
    "collapsed": true
   },
   "outputs": [],
   "source": []
  },
  {
   "cell_type": "code",
   "execution_count": null,
   "metadata": {
    "collapsed": true
   },
   "outputs": [],
   "source": []
  },
  {
   "cell_type": "code",
   "execution_count": null,
   "metadata": {
    "collapsed": true
   },
   "outputs": [],
   "source": []
  },
  {
   "cell_type": "code",
   "execution_count": null,
   "metadata": {
    "collapsed": true
   },
   "outputs": [],
   "source": []
  },
  {
   "cell_type": "code",
   "execution_count": null,
   "metadata": {
    "collapsed": true
   },
   "outputs": [],
   "source": []
  },
  {
   "cell_type": "code",
   "execution_count": null,
   "metadata": {
    "collapsed": true
   },
   "outputs": [],
   "source": []
  },
  {
   "cell_type": "code",
   "execution_count": null,
   "metadata": {
    "collapsed": true
   },
   "outputs": [],
   "source": []
  },
  {
   "cell_type": "code",
   "execution_count": null,
   "metadata": {
    "collapsed": true
   },
   "outputs": [],
   "source": []
  },
  {
   "cell_type": "code",
   "execution_count": null,
   "metadata": {
    "collapsed": true
   },
   "outputs": [],
   "source": []
  },
  {
   "cell_type": "code",
   "execution_count": null,
   "metadata": {
    "collapsed": true
   },
   "outputs": [],
   "source": []
  },
  {
   "cell_type": "code",
   "execution_count": null,
   "metadata": {
    "collapsed": true
   },
   "outputs": [],
   "source": []
  },
  {
   "cell_type": "code",
   "execution_count": null,
   "metadata": {
    "collapsed": true
   },
   "outputs": [],
   "source": []
  },
  {
   "cell_type": "code",
   "execution_count": null,
   "metadata": {
    "collapsed": true
   },
   "outputs": [],
   "source": []
  },
  {
   "cell_type": "code",
   "execution_count": null,
   "metadata": {
    "collapsed": true
   },
   "outputs": [],
   "source": []
  },
  {
   "cell_type": "code",
   "execution_count": null,
   "metadata": {
    "collapsed": true
   },
   "outputs": [],
   "source": []
  },
  {
   "cell_type": "code",
   "execution_count": null,
   "metadata": {
    "collapsed": true
   },
   "outputs": [],
   "source": []
  },
  {
   "cell_type": "code",
   "execution_count": null,
   "metadata": {
    "collapsed": true
   },
   "outputs": [],
   "source": []
  },
  {
   "cell_type": "code",
   "execution_count": null,
   "metadata": {
    "collapsed": true
   },
   "outputs": [],
   "source": []
  },
  {
   "cell_type": "code",
   "execution_count": null,
   "metadata": {
    "collapsed": true
   },
   "outputs": [],
   "source": []
  },
  {
   "cell_type": "code",
   "execution_count": null,
   "metadata": {
    "collapsed": true
   },
   "outputs": [],
   "source": []
  },
  {
   "cell_type": "code",
   "execution_count": null,
   "metadata": {
    "collapsed": true
   },
   "outputs": [],
   "source": []
  },
  {
   "cell_type": "code",
   "execution_count": null,
   "metadata": {
    "collapsed": true
   },
   "outputs": [],
   "source": []
  },
  {
   "cell_type": "code",
   "execution_count": null,
   "metadata": {
    "collapsed": true
   },
   "outputs": [],
   "source": []
  },
  {
   "cell_type": "code",
   "execution_count": null,
   "metadata": {
    "collapsed": true
   },
   "outputs": [],
   "source": []
  },
  {
   "cell_type": "code",
   "execution_count": null,
   "metadata": {
    "collapsed": true
   },
   "outputs": [],
   "source": []
  },
  {
   "cell_type": "code",
   "execution_count": null,
   "metadata": {
    "collapsed": true
   },
   "outputs": [],
   "source": []
  },
  {
   "cell_type": "code",
   "execution_count": null,
   "metadata": {
    "collapsed": true
   },
   "outputs": [],
   "source": []
  },
  {
   "cell_type": "code",
   "execution_count": null,
   "metadata": {
    "collapsed": true
   },
   "outputs": [],
   "source": []
  },
  {
   "cell_type": "code",
   "execution_count": null,
   "metadata": {
    "collapsed": true
   },
   "outputs": [],
   "source": []
  },
  {
   "cell_type": "code",
   "execution_count": null,
   "metadata": {
    "collapsed": true
   },
   "outputs": [],
   "source": []
  },
  {
   "cell_type": "code",
   "execution_count": null,
   "metadata": {
    "collapsed": true
   },
   "outputs": [],
   "source": []
  },
  {
   "cell_type": "code",
   "execution_count": null,
   "metadata": {
    "collapsed": true
   },
   "outputs": [],
   "source": []
  },
  {
   "cell_type": "code",
   "execution_count": null,
   "metadata": {
    "collapsed": true
   },
   "outputs": [],
   "source": []
  },
  {
   "cell_type": "code",
   "execution_count": null,
   "metadata": {
    "collapsed": true
   },
   "outputs": [],
   "source": []
  },
  {
   "cell_type": "code",
   "execution_count": null,
   "metadata": {
    "collapsed": true
   },
   "outputs": [],
   "source": []
  },
  {
   "cell_type": "code",
   "execution_count": null,
   "metadata": {
    "collapsed": true
   },
   "outputs": [],
   "source": []
  },
  {
   "cell_type": "code",
   "execution_count": null,
   "metadata": {
    "collapsed": true
   },
   "outputs": [],
   "source": []
  },
  {
   "cell_type": "code",
   "execution_count": null,
   "metadata": {
    "collapsed": true
   },
   "outputs": [],
   "source": []
  },
  {
   "cell_type": "code",
   "execution_count": null,
   "metadata": {
    "collapsed": true
   },
   "outputs": [],
   "source": []
  },
  {
   "cell_type": "code",
   "execution_count": null,
   "metadata": {
    "collapsed": true
   },
   "outputs": [],
   "source": []
  },
  {
   "cell_type": "code",
   "execution_count": null,
   "metadata": {
    "collapsed": true
   },
   "outputs": [],
   "source": []
  },
  {
   "cell_type": "code",
   "execution_count": null,
   "metadata": {
    "collapsed": true
   },
   "outputs": [],
   "source": []
  },
  {
   "cell_type": "code",
   "execution_count": null,
   "metadata": {
    "collapsed": true
   },
   "outputs": [],
   "source": []
  },
  {
   "cell_type": "code",
   "execution_count": null,
   "metadata": {},
   "outputs": [],
   "source": []
  },
  {
   "cell_type": "code",
   "execution_count": null,
   "metadata": {},
   "outputs": [],
   "source": []
  },
  {
   "cell_type": "code",
   "execution_count": 3,
   "metadata": {
    "id": "ao6gAjeDXDqS"
   },
   "outputs": [],
   "source": [
    "images_path = '/content/drive/My Drive/DSO_464_Spring_2024/Images'\n",
    "\n",
    "data_path = '/content/drive/My Drive/DSO_464_Spring_2024/05_Neural_Networks_for_Structured_Data_Dense_NNs_I_EX_Complexity_in_Stock_Returns_Predictions_for_Asset_and_Wealth_Management_and_Trading/Data'"
   ]
  },
  {
   "cell_type": "code",
   "execution_count": 4,
   "metadata": {
    "id": "-U5iQ8JSNLeA"
   },
   "outputs": [],
   "source": [
    "# tf.keras.preprocessing.image.load_img(os.path.join(images_path, 'add_any_images_using_this_code.png'))"
   ]
  },
  {
   "cell_type": "markdown",
   "metadata": {
    "id": "I_z9kc85Pwvu"
   },
   "source": [
    "$\\rule{800pt}{20pt}$"
   ]
  },
  {
   "cell_type": "markdown",
   "metadata": {
    "id": "RyHzMrR1pHKd"
   },
   "source": [
    "# Cleaning Market Voaltility Data\n",
    "<br>\n",
    "<font size=\"+1\">\n",
    "  <ul>\n",
    "    <li>In this exercise, you are to predict monthly S\\&P 500 stock market <b>volatility</b> rather than <b>returns</b> (as we did in class).</li>\n",
    "    <br>\n",
    "  </ul>\n",
    "</font>\n",
    "\n",
    "$\\square$"
   ]
  },
  {
   "cell_type": "markdown",
   "metadata": {
    "id": "EH4UtA1sUf-6"
   },
   "source": [
    "## Data\n",
    "<br>\n",
    "<font size=\"+1\">\n",
    "    <ul>\n",
    "        <li><b>The forecast target is the monthly rolling standard deviation of the CRSP (Center for Research in Security Prices) S&P 500 value-weighted index, otherwise known as the volatility.</b></li>\n",
    "        <br>\n",
    "        <li>The features consist of 15 variables that are known to predict the stock market returns over time. They are fairly well known both in industry and in academia, and they were compiled by Goyal and Welch (2008).</li>\n",
    "        <br>\n",
    "        <li>The data sample ranges from 1926 to 2020.</li>\n",
    "        <br>\n",
    "        <li><details><summary>The following is a description of the variables from the 2008 Goyal & Welch paper.</summary>\n",
    "        <br>\n",
    "        <li>Variables used to construct the target variable.</li>\n",
    "        <br>\n",
    "        <ul>\n",
    "          <li><b>Stock Returns:</b> We use S&P 500 index returns from 1926 to 2005 from Center for Research in Security Prices (CRSP) month-end values. Stock returns are the continuously compounded returns on the S&P 500 index, including dividends. For yearly and longer data frequencies, we can go back as far as 1871, using data from Robert Shiller's website. For monthly frequency, we can only begin in the CRSP period, that is, 1927.</li>\n",
    "          <br>\n",
    "          <li><b>Risk-free Rate:</b> The risk-free rate from 1920 to 2005 is the Treasury-bill rate. Treasury bills (or T-bills) are U.S. debt securities that mature over a time period of four weeks to one year. The most common terms for T-bills are for four, eight, 13, 17, 26 and 52 weeks. Because there was no risk-free short-term debt prior to the 1920s, we had to estimate it. Commercial paper rates for New York City are from the National Bureau of Economic Research (NBER) Macrohistory database. These are available from 1871 to 1970. We estimated a regression from 1920 to 1971, which yielded $$\\text{Treasury-bill rate} = -0.004 + 0.886 \\times \\text{Commercial Paper Rate},$$ with an $R^2$ of $95.7\\%$. Therefore, we <b>instrumented</b> the risk-free rate from 1871 to 1919 with the predicted regression equation. The correlation for the period 1920 to 1971 between the equity premium computed using the actual Treasury-bill rate and that computed using the predicted Treasury-bill rate (using the commercial paper rate) is $99.8\\%$.</li>\n",
    "          <br>\n",
    "          <li>The equity premium had a mean (standard deviation) of $4.85\\% (17.79%)$ over the entire sample from 1872 to 2005; $6.04\\% (19.17\\%)$ from 1927 to 2005; and $4.03\\% (15.70\\%)$ from 1965 to 2005.</li>\n",
    "          <br>\n",
    "        </ul>\n",
    "        <li>Our first set of independent variables are primarily stock characteristics.</li>\n",
    "        <br>\n",
    "        <ul>\n",
    "          <li><b>Dividends:</b> Dividends are 12-month moving sums of dividends paid on the S&P 500 index. The data are from Robert Shiller's website from 1871 to 1987. Dividends from 1988 to 2005 are from the S&P Corporation. The <b>Dividend Price Ratio (d/p)</b> is the difference between the log of dividends and the log of prices. The <b>Dividend Yield (d/y)</b> is the difference between the log of dividends and the log of lagged prices. (<i>See, e.g., Ball (1978), Campbell (1987), Campbell and Shiller (1988a, 1988b), Campbell and Viceira (2002), Campbell and Yogo (2006), the survey in Cochrane (1997), Fama and French (1988), Hodrick (1992), Lewellen (2004), Menzly, Santos, and Veronesi (2004), Rozeff (1984), and Shiller (1984).</i>)</li>\n",
    "          <br>\n",
    "          <li><b>Earnings:</b> Earnings are 12-month moving sums of earnings on the S&P 500 index. The data are again from Robert Shiller's website from 1871 to 1987. Earnings from 1988 to 2005 are our own estimates based on 1457 interpolation of quarterly earnings provided by the S&P Corporation. The <b>Earnings Price Ratio (e/p)</b> is the difference between the log of earnings and the log of prices. (We also consider variations, in which we explore multiyear moving averages of numerator or denominator, e.g., as in e10/p, which is the moving ten-year average of earnings divided by price.) The <b>Dividend Payout Ratio (d/e)</b> is the difference between the log of dividends and the log of earnings. (<i>See, e.g., Campbell and Shiller (1988a, 1998) and Lamont (1998).</i>)</li>\n",
    "          <br>\n",
    "          <li><b>Stock Variance (svar):</b> Stock Variance is computed as sum of squared daily returns on the S&P 500. G. William Schwert provided daily returns from 1871 to 1926; data from 1926 to 2005 are from CRSP. (<i>See Guo (2006).</i>)</li>\n",
    "          <br>\n",
    "          <li><b>Cross-Sectional Premium (csp):</b> The cross-sectional beta premium measures the relative valuations of high- and low-beta stocks and is proposed in Polk, Thompson, and Vuolteenaho (2006). The csp data are from Samuel Thompson from May 1937 to December 2002.</li>\n",
    "          <br>\n",
    "          <li>Book Value : Book values from 1920 to 2005 are from Value Line's website, specifically their Long-Term Perspective Chart of the Dow Jones Industrial Average. The <b>Book-to-Market Ratio (b/m)</b> is the ratio of book value to market value for the Dow Jones Industrial Average. For the months from March to December, this is computed by dividing book value at the end of the previous year by the price at the end of the current month. For the months of January and February, this is computed by dividing book value at the end of two years ago by the price at the end of the current month. (<i>See, e.g, Kothari and Shanken (1997) and Pontiff and Schall (1998).</i>)</li>\n",
    "          <br>\n",
    "          <li><b>Corporate Issuing Activity:</b> We entertain two measures osf corporate issuing activity. <b>Net Equity Expansion (ntis)</b> is the ratio of 12-month moving sums of net issues by NYSE listed stocks divided by the total end-of-year market capitalization of NYSE stocks. This dollar amount of net equity issuing activity (IPOs, SEOs, stock repurchases, less dividends) for NYSE listed stocks is computed from CRSP data as $$\\text{Net Issue}_t = \\text{Mcap}_t - \\text{Mcap}_{t - 1} \\times (1 + \\text{vwretx}_t) ,$$ where Mcap is the total market capitalization, and vwretx is the value weighted return (excluding dividends) on the NYSE index. These data are available from 1926 to 2005. ntis is closely related, but not identical, to a variable proposed in Boudoukh, Michaely, Richardson, and Roberts (2007). The second measure, <b>Percent Equity Issuing (eqis)</b>, is the ratio of equity issuing activity as a fraction of total issuing activity. This is the variable proposed in Baker and Wurgler (2000). The authors provided us with the data, except for 2005, which we added ourselves. This calculation implicitly assumes that the delisting return is -100 percent. Using the actual delisting return, where available, or ignoring delistings altogether, has no impact on our results. The first equity issuing measure is relative to aggregate market cap, while the second is relative to aggregate corporate issuing.</li>\n",
    "          <br>\n",
    "        </ul>\n",
    "        <li>Our next set of independent variables is interest-rate related.</li>\n",
    "        <br>\n",
    "        <ul>\n",
    "          <li><b>Treasury Bills (tbl):</b> Treasury-bill rates from 1920 to 1933 are the U.S. Yields On Short-Term United States Securities, Three-Six Month Treasury Notes and Certificates, ThreeMonth Treasury series in the NBER Macrohistory data base. Treasury-bill rates from 1934 to 2005 are the 3-Month Treasury Bill: SecondaryMarket Rate from the economic research data base at the Federal Reserve Bank at St. Louis (FRED). (<i>See, e.g., Campbell (1987) and Hodrick (1992).</i>)</li>\n",
    "          <br>\n",
    "          <li><b>Long Term Yield (lty):</b> Our long-term government bond yield data from 1919 to 1925 is the U.S. Yield On Long-Term United States Bonds series in the NBER's Macrohistory data base. Yields from 1926 to 2005 are from Ibbotson's Stocks, Bonds, Bills and Inflation Yearbook, the same source that provided the <b>Long Term Rate of Returns (ltr)</b>. The <b>Term Spread (tms)</b> is the difference between the long term yield on government bonds and the Treasury-bill. (<i>See, e.g., Campbell (1987) and Fama and French (1989).</i>)</li>\n",
    "          <br>\n",
    "          <li><b>Corporate Bond Returns:</b> Long-term corporate bond returns from 1926 to 2005 are again from Ibbotson's Stocks, Bonds, Bills and Inflation Yearbook. Corporate Bond Yields on AAA and BAA-rated bonds from 1919 to 2005 are from FRED. The <b>Default Yield Spread (dfy)</b> is the difference between BAA and AAA-rated corporate bond yields. The <b>Default Return Spread (dfr)</b> is the difference between long-term corporate bond and long-term government bond returns. (<i>See, e.g., Fama and French (1989) and Keim and Stambaugh (1986).</i>)</li>\n",
    "          <br>\n",
    "          <li><b>Inflation (infl):</b> Inflation is the Consumer Price Index (All Urban Consumers) from 1919 to 2005 from the Bureau of Labor Statistics. Because inflation information is released only in the following month, we wait for one month before using it in our monthly regressions. <i>See, e.g., Campbell and Vuolteenaho (2004), Fama (1981), Fama and Schwert (1977), and Lintner (1975).</i>)</li>\n",
    "          <br>\n",
    "        </ul>\n",
    "        <li>Like inflation, our next variable is also a common broad macroeconomic indicator.</li>\n",
    "        <br>\n",
    "        <ul>\n",
    "          <li><b>Investment to Capital Ratio (i/k):</b> The investment to capital ratio is the ratio of aggregate (private nonresidential fixed) investment to aggregate capital for the whole economy. This is the variable proposed in Cochrane (1991). John Cochrane kindly provided us with updated data. Of course, many articles explore multiple variables. For example, Ang and Bekaert (2003) explore both interest rate and dividend related variables. In addition to simple univariate prediction models, we also entertain two methods that rely on multiple variables (all and ms), and two models that are rolling in their independent variable construction (cay and ms).</li>\n",
    "          <br>\n",
    "        </ul>\n",
    "</li></details></li>\n",
    "        <br>\n",
    "        </ul>\n",
    "    </ul>\n",
    "</font>\n",
    "\n",
    "$\\square$"
   ]
  },
  {
   "cell_type": "code",
   "execution_count": 5,
   "metadata": {
    "id": "rI9YOByhQJbP"
   },
   "outputs": [],
   "source": [
    "DSO_464_Spring_2024# CRSP_SPvw includes dividends\n",
    "# CRSP_SPvwx excluding dividends\n",
    "\n",
    "# Note: Rapach, Zhou, Strauss calculate the equity premium using CRSP_SPvw (includes dividends) and lagged risk free rate\n",
    "# Note: Goyal, Welch (2008) use Index and D12 and current risk free rate (not sure if they use lagged risk free rate or \"current\")\n",
    "\n",
    "# This data list includes:\n",
    "# b/m (book to market ratio),\n",
    "# de (dividend payout ratio),\n",
    "# dfr (default return spread; used to measure corporate bond returns relative to government bond returns),\n",
    "# dfy (default yield spread; difference between BAA and AAA-rated corporate bond yields),\n",
    "# dp (dividend price ratio),\n",
    "# dy (dividend yield),\n",
    "# ep (earnings price ratio),\n",
    "# infl (inflation measured through the consumer price inded CPI),\n",
    "# ltr (long-term bond rate of returns),\n",
    "# lty (long-term bond yield),\n",
    "# ntis (net equity expansion; a measure of corporate issuing activity),\n",
    "# svar (stock variance),\n",
    "# tbl (treasury bills),\n",
    "# tms (term-spread),\n",
    "# as well as one lag of the market return\n",
    "\n",
    "\n",
    "\n",
    "COLUMNS = [\"b/m\", \"de\", \"dfr\", \"dfy\", \"dp\", \"dy\", \"ep\", \"infl\", \"ltr\", \"lty\", \"ntis\", \"svar\", \"tbl\", \"tms\", \"returns_lag_1\", \"volatility_lag_1\", \"volatility\"]\n",
    "\n",
    "\n",
    "def load_nber(data_path, file_name):\n",
    "    \"\"\"Used to create a data set that you can use to investigate trends around recessions and other business cycles.\"\"\"\n",
    "    nber = pd.read_csv(os.path.join(data_path, file_name))[1:]\n",
    "    nber[\"peak\"] = pd.to_datetime(nber[\"peak\"])\n",
    "    nber[\"trough\"] = pd.to_datetime(nber[\"trough\"])\n",
    "    return nber\n",
    "\n",
    "def load_data(data_path, file_name):\n",
    "    data_raw = pd.read_csv(os.path.join(data_path, file_name))\n",
    "    data_raw[\"yyyymm\"] = pd.to_datetime(data_raw[\"yyyymm\"], format='%Y%m', errors='coerce')\n",
    "    data_raw[\"Index\"] = data_raw[\"Index\"].str.replace(\",\", \"\")\n",
    "    data_raw.set_index(\"yyyymm\", inplace=True)\n",
    "    data_raw[data_raw.columns] = data_raw[data_raw.columns].astype(float)\n",
    "    data_raw.rename(columns={\"Index\":\"prices\"}, inplace=True)\n",
    "\n",
    "    # Calculate missing columns according to the explaination in m Welch and Goyal (2008)\n",
    "    data_raw[\"dfy\"] = data_raw[\"BAA\"] - data_raw[\"AAA\"]\n",
    "    data_raw[\"tms\"] = data_raw[\"lty\"] - data_raw[\"tbl\"]\n",
    "    data_raw[\"de\"] = np.log(data_raw[\"D12\"]) - np.log(data_raw[\"E12\"])\n",
    "    data_raw[\"dfr\"] = data_raw[\"corpr\"] - data_raw[\"ltr\"]\n",
    "    data_raw[\"lag_prices\"] = data_raw[\"prices\"].shift()\n",
    "    data_raw[\"dp\"] = np.log(data_raw[\"D12\"]) - np.log(data_raw[\"prices\"])\n",
    "    data_raw[\"dy\"] = np.log(data_raw[\"D12\"]) - np.log(data_raw[\"lag_prices\"])\n",
    "    data_raw[\"ep\"] = np.log(data_raw[\"E12\"])  - np.log(data_raw[\"prices\"])\n",
    "\n",
    "    # All the variables should be lagged by at least one period so we are using a predictive regression, and not an explanatory / contemporaneous regression\n",
    "    data_raw = data_raw.shift().copy()\n",
    "\n",
    "    data_raw[\"returns\"] = data_raw[\"CRSP_SPvw\"] # data_raw[\"prices\"].pct_change() # Maybe use CRSP_SPvw - Value weighted return\n",
    "    data_raw[\"returns_lag_1\"] = data_raw[\"returns\"].shift()\n",
    "\n",
    "    data_raw[\"volatility\"] = data_raw[\"returns\"].rolling(12).std()\n",
    "    data_raw[\"volatility_lag_1\"] = data_raw[\"volatility\"].shift()\n",
    "    returns = data_raw[\"returns\"].copy()\n",
    "\n",
    "    data = data_raw[COLUMNS].dropna()\n",
    "    returns = returns[returns.index.isin(data.index)]\n",
    "    return data # , returns"
   ]
  },
  {
   "cell_type": "code",
   "execution_count": 6,
   "metadata": {
    "colab": {
     "base_uri": "https://localhost:8080/",
     "height": 333
    },
    "id": "cemJIvqBqcQl",
    "outputId": "8e67db55-9385-4ff9-89d0-a34d4a98fa97"
   },
   "outputs": [
    {
     "ename": "FileNotFoundError",
     "evalue": "[Errno 2] No such file or directory: 'Predictor_Data_Monthly_2022.csv'",
     "output_type": "error",
     "traceback": [
      "\u001b[0;31m---------------------------------------------------------------------------\u001b[0m",
      "\u001b[0;31mFileNotFoundError\u001b[0m                         Traceback (most recent call last)",
      "\u001b[0;32m<ipython-input-6-a289f427cbe9>\u001b[0m in \u001b[0;36m<cell line: 4>\u001b[0;34m()\u001b[0m\n\u001b[1;32m      2\u001b[0m \u001b[0;34m\u001b[0m\u001b[0m\n\u001b[1;32m      3\u001b[0m \u001b[0mdata\u001b[0m \u001b[0;34m=\u001b[0m \u001b[0mload_data\u001b[0m\u001b[0;34m(\u001b[0m\u001b[0mdata_path\u001b[0m\u001b[0;34m,\u001b[0m \u001b[0;34m'Predictor_Data_Monthly_2022.csv'\u001b[0m\u001b[0;34m)\u001b[0m\u001b[0;34m\u001b[0m\u001b[0;34m\u001b[0m\u001b[0m\n\u001b[0;32m----> 4\u001b[0;31m \u001b[0mdata\u001b[0m \u001b[0;34m=\u001b[0m \u001b[0mload_data\u001b[0m\u001b[0;34m(\u001b[0m\u001b[0;34m''\u001b[0m\u001b[0;34m,\u001b[0m \u001b[0;34m'Predictor_Data_Monthly_2022.csv'\u001b[0m\u001b[0;34m)\u001b[0m\u001b[0;34m\u001b[0m\u001b[0;34m\u001b[0m\u001b[0m\n\u001b[0m",
      "\u001b[0;32m<ipython-input-5-e485a3fec97b>\u001b[0m in \u001b[0;36mload_data\u001b[0;34m(data_path, file_name)\u001b[0m\n\u001b[1;32m     35\u001b[0m \u001b[0;34m\u001b[0m\u001b[0m\n\u001b[1;32m     36\u001b[0m \u001b[0;32mdef\u001b[0m \u001b[0mload_data\u001b[0m\u001b[0;34m(\u001b[0m\u001b[0mdata_path\u001b[0m\u001b[0;34m,\u001b[0m \u001b[0mfile_name\u001b[0m\u001b[0;34m)\u001b[0m\u001b[0;34m:\u001b[0m\u001b[0;34m\u001b[0m\u001b[0;34m\u001b[0m\u001b[0m\n\u001b[0;32m---> 37\u001b[0;31m     \u001b[0mdata_raw\u001b[0m \u001b[0;34m=\u001b[0m \u001b[0mpd\u001b[0m\u001b[0;34m.\u001b[0m\u001b[0mread_csv\u001b[0m\u001b[0;34m(\u001b[0m\u001b[0mos\u001b[0m\u001b[0;34m.\u001b[0m\u001b[0mpath\u001b[0m\u001b[0;34m.\u001b[0m\u001b[0mjoin\u001b[0m\u001b[0;34m(\u001b[0m\u001b[0mdata_path\u001b[0m\u001b[0;34m,\u001b[0m \u001b[0mfile_name\u001b[0m\u001b[0;34m)\u001b[0m\u001b[0;34m)\u001b[0m\u001b[0;34m\u001b[0m\u001b[0;34m\u001b[0m\u001b[0m\n\u001b[0m\u001b[1;32m     38\u001b[0m     \u001b[0mdata_raw\u001b[0m\u001b[0;34m[\u001b[0m\u001b[0;34m\"yyyymm\"\u001b[0m\u001b[0;34m]\u001b[0m \u001b[0;34m=\u001b[0m \u001b[0mpd\u001b[0m\u001b[0;34m.\u001b[0m\u001b[0mto_datetime\u001b[0m\u001b[0;34m(\u001b[0m\u001b[0mdata_raw\u001b[0m\u001b[0;34m[\u001b[0m\u001b[0;34m\"yyyymm\"\u001b[0m\u001b[0;34m]\u001b[0m\u001b[0;34m,\u001b[0m \u001b[0mformat\u001b[0m\u001b[0;34m=\u001b[0m\u001b[0;34m'%Y%m'\u001b[0m\u001b[0;34m,\u001b[0m \u001b[0merrors\u001b[0m\u001b[0;34m=\u001b[0m\u001b[0;34m'coerce'\u001b[0m\u001b[0;34m)\u001b[0m\u001b[0;34m\u001b[0m\u001b[0;34m\u001b[0m\u001b[0m\n\u001b[1;32m     39\u001b[0m     \u001b[0mdata_raw\u001b[0m\u001b[0;34m[\u001b[0m\u001b[0;34m\"Index\"\u001b[0m\u001b[0;34m]\u001b[0m \u001b[0;34m=\u001b[0m \u001b[0mdata_raw\u001b[0m\u001b[0;34m[\u001b[0m\u001b[0;34m\"Index\"\u001b[0m\u001b[0;34m]\u001b[0m\u001b[0;34m.\u001b[0m\u001b[0mstr\u001b[0m\u001b[0;34m.\u001b[0m\u001b[0mreplace\u001b[0m\u001b[0;34m(\u001b[0m\u001b[0;34m\",\"\u001b[0m\u001b[0;34m,\u001b[0m \u001b[0;34m\"\"\u001b[0m\u001b[0;34m)\u001b[0m\u001b[0;34m\u001b[0m\u001b[0;34m\u001b[0m\u001b[0m\n",
      "\u001b[0;32m/usr/local/lib/python3.10/dist-packages/pandas/util/_decorators.py\u001b[0m in \u001b[0;36mwrapper\u001b[0;34m(*args, **kwargs)\u001b[0m\n\u001b[1;32m    209\u001b[0m                 \u001b[0;32melse\u001b[0m\u001b[0;34m:\u001b[0m\u001b[0;34m\u001b[0m\u001b[0;34m\u001b[0m\u001b[0m\n\u001b[1;32m    210\u001b[0m                     \u001b[0mkwargs\u001b[0m\u001b[0;34m[\u001b[0m\u001b[0mnew_arg_name\u001b[0m\u001b[0;34m]\u001b[0m \u001b[0;34m=\u001b[0m \u001b[0mnew_arg_value\u001b[0m\u001b[0;34m\u001b[0m\u001b[0;34m\u001b[0m\u001b[0m\n\u001b[0;32m--> 211\u001b[0;31m             \u001b[0;32mreturn\u001b[0m \u001b[0mfunc\u001b[0m\u001b[0;34m(\u001b[0m\u001b[0;34m*\u001b[0m\u001b[0margs\u001b[0m\u001b[0;34m,\u001b[0m \u001b[0;34m**\u001b[0m\u001b[0mkwargs\u001b[0m\u001b[0;34m)\u001b[0m\u001b[0;34m\u001b[0m\u001b[0;34m\u001b[0m\u001b[0m\n\u001b[0m\u001b[1;32m    212\u001b[0m \u001b[0;34m\u001b[0m\u001b[0m\n\u001b[1;32m    213\u001b[0m         \u001b[0;32mreturn\u001b[0m \u001b[0mcast\u001b[0m\u001b[0;34m(\u001b[0m\u001b[0mF\u001b[0m\u001b[0;34m,\u001b[0m \u001b[0mwrapper\u001b[0m\u001b[0;34m)\u001b[0m\u001b[0;34m\u001b[0m\u001b[0;34m\u001b[0m\u001b[0m\n",
      "\u001b[0;32m/usr/local/lib/python3.10/dist-packages/pandas/util/_decorators.py\u001b[0m in \u001b[0;36mwrapper\u001b[0;34m(*args, **kwargs)\u001b[0m\n\u001b[1;32m    329\u001b[0m                     \u001b[0mstacklevel\u001b[0m\u001b[0;34m=\u001b[0m\u001b[0mfind_stack_level\u001b[0m\u001b[0;34m(\u001b[0m\u001b[0;34m)\u001b[0m\u001b[0;34m,\u001b[0m\u001b[0;34m\u001b[0m\u001b[0;34m\u001b[0m\u001b[0m\n\u001b[1;32m    330\u001b[0m                 )\n\u001b[0;32m--> 331\u001b[0;31m             \u001b[0;32mreturn\u001b[0m \u001b[0mfunc\u001b[0m\u001b[0;34m(\u001b[0m\u001b[0;34m*\u001b[0m\u001b[0margs\u001b[0m\u001b[0;34m,\u001b[0m \u001b[0;34m**\u001b[0m\u001b[0mkwargs\u001b[0m\u001b[0;34m)\u001b[0m\u001b[0;34m\u001b[0m\u001b[0;34m\u001b[0m\u001b[0m\n\u001b[0m\u001b[1;32m    332\u001b[0m \u001b[0;34m\u001b[0m\u001b[0m\n\u001b[1;32m    333\u001b[0m         \u001b[0;31m# error: \"Callable[[VarArg(Any), KwArg(Any)], Any]\" has no\u001b[0m\u001b[0;34m\u001b[0m\u001b[0;34m\u001b[0m\u001b[0m\n",
      "\u001b[0;32m/usr/local/lib/python3.10/dist-packages/pandas/io/parsers/readers.py\u001b[0m in \u001b[0;36mread_csv\u001b[0;34m(filepath_or_buffer, sep, delimiter, header, names, index_col, usecols, squeeze, prefix, mangle_dupe_cols, dtype, engine, converters, true_values, false_values, skipinitialspace, skiprows, skipfooter, nrows, na_values, keep_default_na, na_filter, verbose, skip_blank_lines, parse_dates, infer_datetime_format, keep_date_col, date_parser, dayfirst, cache_dates, iterator, chunksize, compression, thousands, decimal, lineterminator, quotechar, quoting, doublequote, escapechar, comment, encoding, encoding_errors, dialect, error_bad_lines, warn_bad_lines, on_bad_lines, delim_whitespace, low_memory, memory_map, float_precision, storage_options)\u001b[0m\n\u001b[1;32m    948\u001b[0m     \u001b[0mkwds\u001b[0m\u001b[0;34m.\u001b[0m\u001b[0mupdate\u001b[0m\u001b[0;34m(\u001b[0m\u001b[0mkwds_defaults\u001b[0m\u001b[0;34m)\u001b[0m\u001b[0;34m\u001b[0m\u001b[0;34m\u001b[0m\u001b[0m\n\u001b[1;32m    949\u001b[0m \u001b[0;34m\u001b[0m\u001b[0m\n\u001b[0;32m--> 950\u001b[0;31m     \u001b[0;32mreturn\u001b[0m \u001b[0m_read\u001b[0m\u001b[0;34m(\u001b[0m\u001b[0mfilepath_or_buffer\u001b[0m\u001b[0;34m,\u001b[0m \u001b[0mkwds\u001b[0m\u001b[0;34m)\u001b[0m\u001b[0;34m\u001b[0m\u001b[0;34m\u001b[0m\u001b[0m\n\u001b[0m\u001b[1;32m    951\u001b[0m \u001b[0;34m\u001b[0m\u001b[0m\n\u001b[1;32m    952\u001b[0m \u001b[0;34m\u001b[0m\u001b[0m\n",
      "\u001b[0;32m/usr/local/lib/python3.10/dist-packages/pandas/io/parsers/readers.py\u001b[0m in \u001b[0;36m_read\u001b[0;34m(filepath_or_buffer, kwds)\u001b[0m\n\u001b[1;32m    603\u001b[0m \u001b[0;34m\u001b[0m\u001b[0m\n\u001b[1;32m    604\u001b[0m     \u001b[0;31m# Create the parser.\u001b[0m\u001b[0;34m\u001b[0m\u001b[0;34m\u001b[0m\u001b[0m\n\u001b[0;32m--> 605\u001b[0;31m     \u001b[0mparser\u001b[0m \u001b[0;34m=\u001b[0m \u001b[0mTextFileReader\u001b[0m\u001b[0;34m(\u001b[0m\u001b[0mfilepath_or_buffer\u001b[0m\u001b[0;34m,\u001b[0m \u001b[0;34m**\u001b[0m\u001b[0mkwds\u001b[0m\u001b[0;34m)\u001b[0m\u001b[0;34m\u001b[0m\u001b[0;34m\u001b[0m\u001b[0m\n\u001b[0m\u001b[1;32m    606\u001b[0m \u001b[0;34m\u001b[0m\u001b[0m\n\u001b[1;32m    607\u001b[0m     \u001b[0;32mif\u001b[0m \u001b[0mchunksize\u001b[0m \u001b[0;32mor\u001b[0m \u001b[0miterator\u001b[0m\u001b[0;34m:\u001b[0m\u001b[0;34m\u001b[0m\u001b[0;34m\u001b[0m\u001b[0m\n",
      "\u001b[0;32m/usr/local/lib/python3.10/dist-packages/pandas/io/parsers/readers.py\u001b[0m in \u001b[0;36m__init__\u001b[0;34m(self, f, engine, **kwds)\u001b[0m\n\u001b[1;32m   1440\u001b[0m \u001b[0;34m\u001b[0m\u001b[0m\n\u001b[1;32m   1441\u001b[0m         \u001b[0mself\u001b[0m\u001b[0;34m.\u001b[0m\u001b[0mhandles\u001b[0m\u001b[0;34m:\u001b[0m \u001b[0mIOHandles\u001b[0m \u001b[0;34m|\u001b[0m \u001b[0;32mNone\u001b[0m \u001b[0;34m=\u001b[0m \u001b[0;32mNone\u001b[0m\u001b[0;34m\u001b[0m\u001b[0;34m\u001b[0m\u001b[0m\n\u001b[0;32m-> 1442\u001b[0;31m         \u001b[0mself\u001b[0m\u001b[0;34m.\u001b[0m\u001b[0m_engine\u001b[0m \u001b[0;34m=\u001b[0m \u001b[0mself\u001b[0m\u001b[0;34m.\u001b[0m\u001b[0m_make_engine\u001b[0m\u001b[0;34m(\u001b[0m\u001b[0mf\u001b[0m\u001b[0;34m,\u001b[0m \u001b[0mself\u001b[0m\u001b[0;34m.\u001b[0m\u001b[0mengine\u001b[0m\u001b[0;34m)\u001b[0m\u001b[0;34m\u001b[0m\u001b[0;34m\u001b[0m\u001b[0m\n\u001b[0m\u001b[1;32m   1443\u001b[0m \u001b[0;34m\u001b[0m\u001b[0m\n\u001b[1;32m   1444\u001b[0m     \u001b[0;32mdef\u001b[0m \u001b[0mclose\u001b[0m\u001b[0;34m(\u001b[0m\u001b[0mself\u001b[0m\u001b[0;34m)\u001b[0m \u001b[0;34m->\u001b[0m \u001b[0;32mNone\u001b[0m\u001b[0;34m:\u001b[0m\u001b[0;34m\u001b[0m\u001b[0;34m\u001b[0m\u001b[0m\n",
      "\u001b[0;32m/usr/local/lib/python3.10/dist-packages/pandas/io/parsers/readers.py\u001b[0m in \u001b[0;36m_make_engine\u001b[0;34m(self, f, engine)\u001b[0m\n\u001b[1;32m   1733\u001b[0m                 \u001b[0;32mif\u001b[0m \u001b[0;34m\"b\"\u001b[0m \u001b[0;32mnot\u001b[0m \u001b[0;32min\u001b[0m \u001b[0mmode\u001b[0m\u001b[0;34m:\u001b[0m\u001b[0;34m\u001b[0m\u001b[0;34m\u001b[0m\u001b[0m\n\u001b[1;32m   1734\u001b[0m                     \u001b[0mmode\u001b[0m \u001b[0;34m+=\u001b[0m \u001b[0;34m\"b\"\u001b[0m\u001b[0;34m\u001b[0m\u001b[0;34m\u001b[0m\u001b[0m\n\u001b[0;32m-> 1735\u001b[0;31m             self.handles = get_handle(\n\u001b[0m\u001b[1;32m   1736\u001b[0m                 \u001b[0mf\u001b[0m\u001b[0;34m,\u001b[0m\u001b[0;34m\u001b[0m\u001b[0;34m\u001b[0m\u001b[0m\n\u001b[1;32m   1737\u001b[0m                 \u001b[0mmode\u001b[0m\u001b[0;34m,\u001b[0m\u001b[0;34m\u001b[0m\u001b[0;34m\u001b[0m\u001b[0m\n",
      "\u001b[0;32m/usr/local/lib/python3.10/dist-packages/pandas/io/common.py\u001b[0m in \u001b[0;36mget_handle\u001b[0;34m(path_or_buf, mode, encoding, compression, memory_map, is_text, errors, storage_options)\u001b[0m\n\u001b[1;32m    854\u001b[0m         \u001b[0;32mif\u001b[0m \u001b[0mioargs\u001b[0m\u001b[0;34m.\u001b[0m\u001b[0mencoding\u001b[0m \u001b[0;32mand\u001b[0m \u001b[0;34m\"b\"\u001b[0m \u001b[0;32mnot\u001b[0m \u001b[0;32min\u001b[0m \u001b[0mioargs\u001b[0m\u001b[0;34m.\u001b[0m\u001b[0mmode\u001b[0m\u001b[0;34m:\u001b[0m\u001b[0;34m\u001b[0m\u001b[0;34m\u001b[0m\u001b[0m\n\u001b[1;32m    855\u001b[0m             \u001b[0;31m# Encoding\u001b[0m\u001b[0;34m\u001b[0m\u001b[0;34m\u001b[0m\u001b[0m\n\u001b[0;32m--> 856\u001b[0;31m             handle = open(\n\u001b[0m\u001b[1;32m    857\u001b[0m                 \u001b[0mhandle\u001b[0m\u001b[0;34m,\u001b[0m\u001b[0;34m\u001b[0m\u001b[0;34m\u001b[0m\u001b[0m\n\u001b[1;32m    858\u001b[0m                 \u001b[0mioargs\u001b[0m\u001b[0;34m.\u001b[0m\u001b[0mmode\u001b[0m\u001b[0;34m,\u001b[0m\u001b[0;34m\u001b[0m\u001b[0;34m\u001b[0m\u001b[0m\n",
      "\u001b[0;31mFileNotFoundError\u001b[0m: [Errno 2] No such file or directory: 'Predictor_Data_Monthly_2022.csv'"
     ]
    }
   ],
   "source": [
    "nber_data = load_nber(data_path, 'NBER_Cycle_Dates.csv') # if you want to investigate what the strategy does around recessions and other business cycles\n",
    "\n",
    "data = load_data(data_path, 'Predictor_Data_Monthly_2022.csv')\n",
    "data = load_data('', 'Predictor_Data_Monthly_2022.csv')"
   ]
  },
  {
   "cell_type": "code",
   "execution_count": null,
   "metadata": {
    "id": "9jODQbUnraC9"
   },
   "outputs": [],
   "source": [
    "data"
   ]
  },
  {
   "cell_type": "code",
   "execution_count": null,
   "metadata": {
    "id": "urEMz-OAZSPV"
   },
   "outputs": [],
   "source": [
    "data.describe().T"
   ]
  },
  {
   "cell_type": "code",
   "execution_count": null,
   "metadata": {
    "id": "gdVJYCh3aB9-"
   },
   "outputs": [],
   "source": [
    "data.corr()"
   ]
  },
  {
   "cell_type": "code",
   "execution_count": null,
   "metadata": {
    "colab": {
     "base_uri": "https://localhost:8080/",
     "height": 139
    },
    "id": "YiYSsiAvaGKR",
    "outputId": "019a81ee-df6b-4ffc-ebac-813231bf9923"
   },
   "outputs": [
    {
     "ename": "NameError",
     "evalue": "name 'data' is not defined",
     "output_type": "error",
     "traceback": [
      "\u001b[0;31m---------------------------------------------------------------------------\u001b[0m",
      "\u001b[0;31mNameError\u001b[0m                                 Traceback (most recent call last)",
      "\u001b[0;32m<ipython-input-13-cdd1af7c2f19>\u001b[0m in \u001b[0;36m<cell line: 1>\u001b[0;34m()\u001b[0m\n\u001b[0;32m----> 1\u001b[0;31m \u001b[0;34m(\u001b[0m\u001b[0mabs\u001b[0m\u001b[0;34m(\u001b[0m\u001b[0mdata\u001b[0m\u001b[0;34m.\u001b[0m\u001b[0mcorr\u001b[0m\u001b[0;34m(\u001b[0m\u001b[0;34m)\u001b[0m\u001b[0;34m[\u001b[0m\u001b[0;34m[\u001b[0m\u001b[0;34m'volatility'\u001b[0m\u001b[0;34m]\u001b[0m\u001b[0;34m]\u001b[0m\u001b[0;34m)\u001b[0m\u001b[0;34m)\u001b[0m\u001b[0;34m.\u001b[0m\u001b[0msort_values\u001b[0m\u001b[0;34m(\u001b[0m\u001b[0mby\u001b[0m\u001b[0;34m=\u001b[0m\u001b[0;34m'volatility'\u001b[0m\u001b[0;34m,\u001b[0m \u001b[0mascending\u001b[0m\u001b[0;34m=\u001b[0m\u001b[0;32mFalse\u001b[0m\u001b[0;34m)\u001b[0m\u001b[0;34m\u001b[0m\u001b[0;34m\u001b[0m\u001b[0m\n\u001b[0m",
      "\u001b[0;31mNameError\u001b[0m: name 'data' is not defined"
     ]
    }
   ],
   "source": [
    "(abs(data.corr()[['volatility']])).sort_values(by='volatility', ascending=False)"
   ]
  },
  {
   "cell_type": "code",
   "execution_count": null,
   "metadata": {
    "colab": {
     "base_uri": "https://localhost:8080/",
     "height": 467
    },
    "id": "7AR6-pgFZVJJ",
    "outputId": "8ab5c9e2-a00b-4c6e-84b4-fab1e2606e4c"
   },
   "outputs": [
    {
     "data": {
      "text/plain": [
       "<Axes: xlabel='yyyymm'>"
      ]
     },
     "execution_count": 11,
     "metadata": {},
     "output_type": "execute_result"
    },
    {
     "data": {
      "image/png": "[encoded data removed]",
      "text/plain": [
       "<Figure size 640x480 with 1 Axes>"
      ]
     },
     "metadata": {},
     "output_type": "display_data"
    }
   ],
   "source": [
    "data[['volatility']].plot()"
   ]
  },
  {
   "cell_type": "code",
   "execution_count": null,
   "metadata": {
    "colab": {
     "base_uri": "https://localhost:8080/"
    },
    "id": "Q3cOGnXZbPi1",
    "outputId": "129d1200-3fe1-47c1-b99f-5fae7735f1cd"
   },
   "outputs": [
    {
     "data": {
      "text/plain": [
       "(1151, 1036, 86.33333333333333, 9.583333333333334)"
      ]
     },
     "execution_count": 12,
     "metadata": {},
     "output_type": "execute_result"
    }
   ],
   "source": [
    "# percentage of the data used to train in a time-series split\n",
    "training_percentage = 0.9\n",
    "\n",
    "# number of samples, number of training samples, number of years in training set, number of years in testing set\n",
    "data.shape[0], round(data.shape[0]* training_percentage), round(data.shape[0]* training_percentage) / 12, (data.shape[0] - round(data.shape[0]* training_percentage)) / 12"
   ]
  },
  {
   "cell_type": "code",
   "execution_count": null,
   "metadata": {
    "id": "xQZAuv9pbEqK"
   },
   "outputs": [],
   "source": [
    "# split data sample into (X_{t-1}, Y_t)\n",
    "X = data.drop(columns=['volatility'])\n",
    "Y = data[['volatility']]\n",
    "\n",
    "# split (X_{t-1}, Y_t) into time-series training and testing sets\n",
    "X_train = X.iloc[0: round(data.shape[0]* training_percentage)]\n",
    "X_test = X.iloc[round(data.shape[0]* training_percentage):]\n",
    "\n",
    "Y_train = Y.iloc[0: round(data.shape[0]* training_percentage)]\n",
    "Y_test = Y.iloc[round(data.shape[0]* training_percentage):]\n",
    "\n",
    "##########################################################################################\n",
    "##########################################################################################\n",
    "##########################################################################################\n",
    "\n",
    "X_sub_train = X_train.iloc[0: round(X_train.shape[0]* training_percentage)]\n",
    "Y_sub_train = Y_train.iloc[0: round(X_train.shape[0]* training_percentage)]\n",
    "\n",
    "X_validation = X_train.iloc[round(X_train.shape[0]* training_percentage):]\n",
    "Y_validation = Y_train.iloc[round(X_train.shape[0]* training_percentage):]\n",
    "\n",
    "\n",
    "\n",
    "## NOTE: in practice, you would do rolling predictions where you build a sequence of models, rather than just a single model at a single time-series split."
   ]
  },
  {
   "cell_type": "markdown",
   "metadata": {
    "id": "jilI6DsS7uKc"
   },
   "source": [
    "$\\rule{800pt}{20pt}$"
   ]
  },
  {
   "cell_type": "markdown",
   "metadata": {
    "id": "N2Xz0qR3Pn6W"
   },
   "source": [
    "# Question 1: Build At Least FIVE Different Dense Neural Networks to Predict Volatility\n",
    "\n",
    "\n",
    "- This focus of this question focuses on model architecture:\n",
    "\n",
    "  - does a shallow, deep, wide, narrow, etc. model work best?\n",
    "\n",
    "- You should test on the validation data and report your results about which architecture performed best.\n",
    "\n",
    "- What periods of time does your model perform well in, and when does it perform poorly? Were they times of financial market stress?"
   ]
  },
  {
   "cell_type": "code",
   "execution_count": null,
   "metadata": {
    "colab": {
     "base_uri": "https://localhost:8080/",
     "height": 139
    },
    "id": "WXCPMAqYGqA2",
    "outputId": "a33d423f-34cf-4e26-c6c6-a8cd4a3b1b60"
   },
   "outputs": [
    {
     "ename": "NameError",
     "evalue": "name 'Y_sub_train' is not defined",
     "output_type": "error",
     "traceback": [
      "\u001b[0;31m---------------------------------------------------------------------------\u001b[0m",
      "\u001b[0;31mNameError\u001b[0m                                 Traceback (most recent call last)",
      "\u001b[0;32m<ipython-input-10-b51dbccd9e2a>\u001b[0m in \u001b[0;36m<cell line: 1>\u001b[0;34m()\u001b[0m\n\u001b[0;32m----> 1\u001b[0;31m \u001b[0mpd\u001b[0m\u001b[0;34m.\u001b[0m\u001b[0mDataFrame\u001b[0m\u001b[0;34m(\u001b[0m\u001b[0mY_sub_train\u001b[0m\u001b[0;34m)\u001b[0m\u001b[0;34m.\u001b[0m\u001b[0mhist\u001b[0m\u001b[0;34m(\u001b[0m\u001b[0;34m)\u001b[0m\u001b[0;34m\u001b[0m\u001b[0;34m\u001b[0m\u001b[0m\n\u001b[0m",
      "\u001b[0;31mNameError\u001b[0m: name 'Y_sub_train' is not defined"
     ]
    }
   ],
   "source": [
    "pd.DataFrame(Y_sub_train).hist()"
   ]
  },
  {
   "cell_type": "code",
   "execution_count": null,
   "metadata": {
    "id": "eqwSyjxVNnbh"
   },
   "outputs": [],
   "source": []
  },
  {
   "cell_type": "markdown",
   "metadata": {
    "id": "wc8lEuX0GqA5"
   },
   "source": [
    "## Extra-Practice Question: You Do NOT Need to Complete this Question\n",
    "\n",
    "- For this question, you will need to do a little research on your own to use a new type of layer.\n",
    "\n",
    "- Answer the same questions from Question 1 above, except you should use <a href=\"https://www.tensorflow.org/api_docs/python/tf/keras/layers/LSTM\">LSTM layers</a>.\n",
    "  \n",
    "  - A suggestion is to use half the layer size from your above approach.\n",
    "  \n",
    "- Compare with dense layers and explain which model performs best."
   ]
  },
  {
   "cell_type": "code",
   "execution_count": null,
   "metadata": {
    "id": "3JiVeB1eNqXc"
   },
   "outputs": [],
   "source": []
  },
  {
   "cell_type": "markdown",
   "metadata": {
    "id": "X7Xdiec1Pmc2"
   },
   "source": [
    "$\\rule{800pt}{20pt}$"
   ]
  },
  {
   "cell_type": "markdown",
   "metadata": {
    "id": "qqfXXogdQeaU"
   },
   "source": [
    "# Question 2: Tune Your Hyperparameters\n",
    "\n",
    "- This question focuses on using Keras Tuner to find the right set of hyperparameters.\n",
    "\n",
    "- You should use at least two different Keras Tuner search methods such as the <b>Random Search Tuner</b> and the <b>Bayesian Optimization Tuner</b>.\n",
    "\n",
    "- You should try to tune at least four different hyperparameters per search method.\n",
    "\n",
    "  - These could include the number of layers, number of units per layer, the optimizer, the weight initialization, the activation functions, the normalization scheme, etc.\n",
    "\n",
    "- Summarize your results and describe which search method performed better and what was the best performing model and top three models, as well as their hyperparameter choices."
   ]
  },
  {
   "cell_type": "code",
   "execution_count": null,
   "metadata": {
    "id": "gAk03KTtNvEJ"
   },
   "outputs": [],
   "source": []
  },
  {
   "cell_type": "markdown",
   "metadata": {
    "id": "JqrNdxDuGqA_"
   },
   "source": [
    "## Extra-Practice Question: You Do NOT Need to Complete this Question\n",
    "\n",
    "- This question will ask you to write a simple continuous integration and continuous development (CI/CD) for the model.\n",
    "\n",
    "- Your code should build new models if the mean-squared error (MSE) of last 12 months is going above a particular level.\n",
    "\n",
    "- In the event of the model performing poorly, as described in the previous sentence, you write code that retrains the model and continues with your predictions.\n",
    "\n",
    "- The procedure is:\n",
    "\n",
    "  1. First, train for first 30 years. This is your base model. You should use your best network from Question 1 above.\n",
    "\n",
    "  2. Next, continue using this base model while recording the past 12 months rolling MSE. You should continue to check if the MSE goes above a particular threshold (of your choosing), and in the event that it does pass the threhold, you should retrain your model on the most recent data and continue using this model.\n",
    "  \n",
    "  3. Repeat this process for your entire sample of data and report metrics associated with this CI/CD experiment."
   ]
  },
  {
   "cell_type": "code",
   "execution_count": null,
   "metadata": {
    "id": "_G8p-jTwNzaL"
   },
   "outputs": [],
   "source": []
  },
  {
   "cell_type": "markdown",
   "metadata": {
    "id": "MThRUAhKWqtW"
   },
   "source": [
    "# Question 3: Build at Least TWO Different Neural Networks To Predict Volatility Using the Functional API\n",
    "\n",
    "- This focus of this question is on model architecture:\n",
    "\n",
    "  - these models should not be sequential models,\n",
    "\n",
    "  - they should be ones where there is some branching and you could not use the Sequential API (see examples from the in-class notebook if you need help getting started).\n",
    "\n",
    "- You should test on the validation data and report your results about which architecture performed best.\n",
    "\n",
    "\n",
    "- **Not Required:** Feel free to try to tune some hyperparameters for your architectures."
   ]
  },
  {
   "cell_type": "code",
   "execution_count": null,
   "metadata": {
    "id": "LqAm1guCNx-e"
   },
   "outputs": [],
   "source": []
  },
  {
   "cell_type": "markdown",
   "metadata": {
    "id": "60dc1c31"
   },
   "source": [
    "$\\rule{800pt}{20pt}$"
   ]
  }
 ],
 "metadata": {
  "colab": {
   "provenance": []
  },
  "kernelspec": {
   "display_name": "Python 3 (ipykernel)",
   "language": "python",
   "name": "python3"
  },
  "language_info": {
   "codemirror_mode": {
    "name": "ipython",
    "version": 3
   },
   "file_extension": ".py",
   "mimetype": "text/x-python",
   "name": "python",
   "nbconvert_exporter": "python",
   "pygments_lexer": "ipython3",
   "version": "3.9.18"
  }
 },
 "nbformat": 4,
 "nbformat_minor": 1
}
